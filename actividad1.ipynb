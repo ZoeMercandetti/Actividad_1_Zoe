{
 "cells": [
  {
   "cell_type": "code",
   "execution_count": 1,
   "metadata": {},
   "outputs": [
    {
     "ename": "KeyboardInterrupt",
     "evalue": "",
     "output_type": "error",
     "traceback": [
      "\u001b[1;31m---------------------------------------------------------------------------\u001b[0m",
      "\u001b[1;31mKeyboardInterrupt\u001b[0m                         Traceback (most recent call last)",
      "Cell \u001b[1;32mIn[1], line 13\u001b[0m\n\u001b[0;32m      9\u001b[0m writer \u001b[38;5;241m=\u001b[39m cv2\u001b[38;5;241m.\u001b[39mVideoWriter(\u001b[38;5;124m'\u001b[39m\u001b[38;5;124mvideo_tarea.mp4\u001b[39m\u001b[38;5;124m'\u001b[39m, cv2\u001b[38;5;241m.\u001b[39mVideoWriter_fourcc(\u001b[38;5;241m*\u001b[39m\u001b[38;5;124m'\u001b[39m\u001b[38;5;124mmp4v\u001b[39m\u001b[38;5;124m'\u001b[39m), \u001b[38;5;241m20\u001b[39m,\n\u001b[0;32m     10\u001b[0m                          (width, height))\n\u001b[0;32m     12\u001b[0m \u001b[38;5;28;01mwhile\u001b[39;00m \u001b[38;5;28;01mTrue\u001b[39;00m:\n\u001b[1;32m---> 13\u001b[0m     ret, frame \u001b[38;5;241m=\u001b[39m \u001b[43mcap\u001b[49m\u001b[38;5;241;43m.\u001b[39;49m\u001b[43mread\u001b[49m\u001b[43m(\u001b[49m\u001b[43m)\u001b[49m\n\u001b[0;32m     15\u001b[0m     \u001b[38;5;28;01mif\u001b[39;00m cv2\u001b[38;5;241m.\u001b[39mwaitKey(\u001b[38;5;241m1\u001b[39m) \u001b[38;5;241m&\u001b[39m \u001b[38;5;241m0xFF\u001b[39m \u001b[38;5;241m==\u001b[39m \u001b[38;5;28mord\u001b[39m(\u001b[38;5;124m'\u001b[39m\u001b[38;5;124mq\u001b[39m\u001b[38;5;124m'\u001b[39m):\n\u001b[0;32m     16\u001b[0m         \u001b[38;5;28;01mbreak\u001b[39;00m\n",
      "\u001b[1;31mKeyboardInterrupt\u001b[0m: "
     ]
    },
    {
     "ename": "",
     "evalue": "",
     "output_type": "error",
     "traceback": [
      "\u001b[1;31mThe Kernel crashed while executing code in the current cell or a previous cell. \n",
      "\u001b[1;31mPlease review the code in the cell(s) to identify a possible cause of the failure. \n",
      "\u001b[1;31mClick <a href='https://aka.ms/vscodeJupyterKernelCrash'>here</a> for more info. \n",
      "\u001b[1;31mView Jupyter <a href='command:jupyter.viewOutput'>log</a> for further details."
     ]
    }
   ],
   "source": [
    "import cv2\n",
    "\n",
    "# Video normal\n",
    "cap = cv2.VideoCapture(0)\n",
    "\n",
    "width = int(cap.get(cv2.CAP_PROP_FRAME_WIDTH))\n",
    "height = int(cap.get(cv2.CAP_PROP_FRAME_HEIGHT))\n",
    "\n",
    "writer = cv2.VideoWriter('video_tarea.mp4', cv2.VideoWriter_fourcc(*'mp4v'), 20,\n",
    "                         (width, height))\n",
    "\n",
    "while True:\n",
    "    ret, frame = cap.read()\n",
    "\n",
    "    if cv2.waitKey(1) & 0xFF == ord('q'):\n",
    "        break\n",
    "\n",
    "    writer.write(frame)\n",
    "    cv2.imshow('frame', frame)\n",
    "\n",
    "cap.release()\n",
    "writer.release()\n",
    "cv2.destroyAllWindows()\n",
    "\n",
    "# Video reversa\n",
    "cap = cv2.VideoCapture(\"video_tarea.mp4\")\n",
    "check, vid = cap.read()\n",
    "frame_list = []\n",
    "\n",
    "while(check==True):\n",
    "    check,vid = cap.read()\n",
    "    frame_list.append(vid)\n",
    "frame_list.pop()\n",
    "frame_list.reverse()\n",
    "\n",
    "\n",
    "writer_reverse = cv2.VideoWriter('video_tareareverse.mp4', cv2.VideoWriter_fourcc(*'mp4v'), 20,\n",
    "                                 (width, height))\n",
    "\n",
    "for frame in frame_list:\n",
    "    cv2.imshow(\"Frame\", frame)\n",
    "    writer_reverse.write(frame)\n",
    "    if cv2.waitKey(1) & 0xFF == ord('q'):\n",
    "        break\n",
    "\n",
    "cap.release()\n",
    "writer_reverse.release()\n",
    "cv2.destroyAllWindows()\n",
    "\n",
    "cap_normal = cv2.VideoCapture(\"video_tarea.mp4\")\n",
    "cap_reverse = cv2.VideoCapture(\"video_tareareverse.mp4\")\n",
    "\n",
    "joined_writer = cv2.VideoWriter('video_combinado.mp4', cv2.VideoWriter_fourcc(*'mp4v'), 20, (width, height))\n",
    "\n",
    "while True:\n",
    "    ret_normal, frame_normal = cap_normal.read()\n",
    "    if not ret_normal:\n",
    "        break\n",
    "    joined_writer.write(frame_normal)\n",
    "\n",
    "while True:\n",
    "    ret_reverse, frame_reverse = cap_reverse.read()\n",
    "    if not ret_reverse:\n",
    "        break\n",
    "    joined_writer.write(frame_reverse)\n",
    "    \n",
    "cap_normal.release()\n",
    "cap_reverse.release()\n",
    "joined_writer.release()\n",
    "cv2.destroyAllWindows()\n",
    "\n",
    "\n",
    "\n"
   ]
  }
 ],
 "metadata": {
  "kernelspec": {
   "display_name": "Python 3",
   "language": "python",
   "name": "python3"
  },
  "language_info": {
   "codemirror_mode": {
    "name": "ipython",
    "version": 3
   },
   "file_extension": ".py",
   "mimetype": "text/x-python",
   "name": "python",
   "nbconvert_exporter": "python",
   "pygments_lexer": "ipython3",
   "version": "3.11.9"
  }
 },
 "nbformat": 4,
 "nbformat_minor": 2
}
